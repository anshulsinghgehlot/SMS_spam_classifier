{
 "cells": [
  {
   "cell_type": "code",
   "execution_count": 1,
   "id": "d51e3430",
   "metadata": {
    "_cell_guid": "b1076dfc-b9ad-4769-8c92-a6c4dae69d19",
    "_uuid": "8f2839f25d086af736a60e9eeb907d3b93b6e0e5",
    "execution": {
     "iopub.execute_input": "2022-09-22T18:45:03.846922Z",
     "iopub.status.busy": "2022-09-22T18:45:03.846381Z",
     "iopub.status.idle": "2022-09-22T18:45:03.866356Z",
     "shell.execute_reply": "2022-09-22T18:45:03.865149Z"
    },
    "papermill": {
     "duration": 0.03926,
     "end_time": "2022-09-22T18:45:03.869087",
     "exception": false,
     "start_time": "2022-09-22T18:45:03.829827",
     "status": "completed"
    },
    "tags": []
   },
   "outputs": [
    {
     "name": "stdout",
     "output_type": "stream",
     "text": [
      "/kaggle/input/uci-sms-spam-collection-data-set/readme\n",
      "/kaggle/input/uci-sms-spam-collection-data-set/SMSSpamCollection\n"
     ]
    }
   ],
   "source": [
    "# This Python 3 environment comes with many helpful analytics libraries installed\n",
    "# It is defined by the kaggle/python Docker image: https://github.com/kaggle/docker-python\n",
    "# For example, here's several helpful packages to load\n",
    "\n",
    "import numpy as np # linear algebra\n",
    "import pandas as pd # data processing, CSV file I/O (e.g. pd.read_csv)\n",
    "\n",
    "# Input data files are available in the read-only \"../input/\" directory\n",
    "# For example, running this (by clicking run or pressing Shift+Enter) will list all files under the input directory\n",
    "\n",
    "import os\n",
    "for dirname, _, filenames in os.walk('/kaggle/input'):\n",
    "    for filename in filenames:\n",
    "        print(os.path.join(dirname, filename))\n",
    "\n",
    "# You can write up to 20GB to the current directory (/kaggle/working/) that gets preserved as output when you create a version using \"Save & Run All\" \n",
    "# You can also write temporary files to /kaggle/temp/, but they won't be saved outside of the current session"
   ]
  },
  {
   "cell_type": "code",
   "execution_count": 2,
   "id": "611fa1ef",
   "metadata": {
    "execution": {
     "iopub.execute_input": "2022-09-22T18:45:03.897940Z",
     "iopub.status.busy": "2022-09-22T18:45:03.897281Z",
     "iopub.status.idle": "2022-09-22T18:45:05.978418Z",
     "shell.execute_reply": "2022-09-22T18:45:05.976900Z"
    },
    "papermill": {
     "duration": 2.098429,
     "end_time": "2022-09-22T18:45:05.981168",
     "exception": false,
     "start_time": "2022-09-22T18:45:03.882739",
     "status": "completed"
    },
    "tags": []
   },
   "outputs": [],
   "source": [
    "import matplotlib.pyplot as plt\n",
    "import seaborn as sns\n",
    "import string\n",
    "from nltk.corpus import stopwords\n",
    "from sklearn.model_selection import train_test_split\n",
    "from sklearn.feature_extraction.text import TfidfTransformer\n",
    "from sklearn.feature_extraction.text import CountVectorizer\n",
    "from sklearn.naive_bayes import MultinomialNB\n",
    "from sklearn.pipeline import Pipeline\n",
    "from sklearn.ensemble import RandomForestClassifier\n",
    "from sklearn.metrics import classification_report\n",
    "from sklearn.linear_model import LogisticRegression\n",
    "%matplotlib inline\n",
    "sns.set()"
   ]
  },
  {
   "cell_type": "code",
   "execution_count": 3,
   "id": "6b288863",
   "metadata": {
    "execution": {
     "iopub.execute_input": "2022-09-22T18:45:06.009628Z",
     "iopub.status.busy": "2022-09-22T18:45:06.008627Z",
     "iopub.status.idle": "2022-09-22T18:45:06.014013Z",
     "shell.execute_reply": "2022-09-22T18:45:06.012838Z"
    },
    "papermill": {
     "duration": 0.021923,
     "end_time": "2022-09-22T18:45:06.016342",
     "exception": false,
     "start_time": "2022-09-22T18:45:05.994419",
     "status": "completed"
    },
    "tags": []
   },
   "outputs": [],
   "source": [
    "pd.options.display.max_rows = None\n",
    "pd.options.display.max_columns = None"
   ]
  },
  {
   "cell_type": "code",
   "execution_count": 4,
   "id": "2b6c063c",
   "metadata": {
    "execution": {
     "iopub.execute_input": "2022-09-22T18:45:06.045221Z",
     "iopub.status.busy": "2022-09-22T18:45:06.044796Z",
     "iopub.status.idle": "2022-09-22T18:45:06.078941Z",
     "shell.execute_reply": "2022-09-22T18:45:06.077926Z"
    },
    "papermill": {
     "duration": 0.051886,
     "end_time": "2022-09-22T18:45:06.081595",
     "exception": false,
     "start_time": "2022-09-22T18:45:06.029709",
     "status": "completed"
    },
    "tags": []
   },
   "outputs": [],
   "source": [
    "df = pd.read_csv(\"../input/uci-sms-spam-collection-data-set/SMSSpamCollection\", sep=\"\\t\", names=[\"labels\", \"messages\"])"
   ]
  },
  {
   "cell_type": "code",
   "execution_count": 5,
   "id": "1428028d",
   "metadata": {
    "execution": {
     "iopub.execute_input": "2022-09-22T18:45:06.108953Z",
     "iopub.status.busy": "2022-09-22T18:45:06.108532Z",
     "iopub.status.idle": "2022-09-22T18:45:06.128405Z",
     "shell.execute_reply": "2022-09-22T18:45:06.127246Z"
    },
    "papermill": {
     "duration": 0.036379,
     "end_time": "2022-09-22T18:45:06.130780",
     "exception": false,
     "start_time": "2022-09-22T18:45:06.094401",
     "status": "completed"
    },
    "tags": []
   },
   "outputs": [
    {
     "data": {
      "text/html": [
       "<div>\n",
       "<style scoped>\n",
       "    .dataframe tbody tr th:only-of-type {\n",
       "        vertical-align: middle;\n",
       "    }\n",
       "\n",
       "    .dataframe tbody tr th {\n",
       "        vertical-align: top;\n",
       "    }\n",
       "\n",
       "    .dataframe thead th {\n",
       "        text-align: right;\n",
       "    }\n",
       "</style>\n",
       "<table border=\"1\" class=\"dataframe\">\n",
       "  <thead>\n",
       "    <tr style=\"text-align: right;\">\n",
       "      <th></th>\n",
       "      <th>labels</th>\n",
       "      <th>messages</th>\n",
       "    </tr>\n",
       "  </thead>\n",
       "  <tbody>\n",
       "    <tr>\n",
       "      <th>0</th>\n",
       "      <td>ham</td>\n",
       "      <td>Go until jurong point, crazy.. Available only ...</td>\n",
       "    </tr>\n",
       "    <tr>\n",
       "      <th>1</th>\n",
       "      <td>ham</td>\n",
       "      <td>Ok lar... Joking wif u oni...</td>\n",
       "    </tr>\n",
       "    <tr>\n",
       "      <th>2</th>\n",
       "      <td>spam</td>\n",
       "      <td>Free entry in 2 a wkly comp to win FA Cup fina...</td>\n",
       "    </tr>\n",
       "    <tr>\n",
       "      <th>3</th>\n",
       "      <td>ham</td>\n",
       "      <td>U dun say so early hor... U c already then say...</td>\n",
       "    </tr>\n",
       "    <tr>\n",
       "      <th>4</th>\n",
       "      <td>ham</td>\n",
       "      <td>Nah I don't think he goes to usf, he lives aro...</td>\n",
       "    </tr>\n",
       "  </tbody>\n",
       "</table>\n",
       "</div>"
      ],
      "text/plain": [
       "  labels                                           messages\n",
       "0    ham  Go until jurong point, crazy.. Available only ...\n",
       "1    ham                      Ok lar... Joking wif u oni...\n",
       "2   spam  Free entry in 2 a wkly comp to win FA Cup fina...\n",
       "3    ham  U dun say so early hor... U c already then say...\n",
       "4    ham  Nah I don't think he goes to usf, he lives aro..."
      ]
     },
     "execution_count": 5,
     "metadata": {},
     "output_type": "execute_result"
    }
   ],
   "source": [
    "df.head()"
   ]
  },
  {
   "cell_type": "code",
   "execution_count": 6,
   "id": "9ac51d88",
   "metadata": {
    "execution": {
     "iopub.execute_input": "2022-09-22T18:45:06.159600Z",
     "iopub.status.busy": "2022-09-22T18:45:06.158765Z",
     "iopub.status.idle": "2022-09-22T18:45:06.181842Z",
     "shell.execute_reply": "2022-09-22T18:45:06.180967Z"
    },
    "papermill": {
     "duration": 0.040469,
     "end_time": "2022-09-22T18:45:06.184703",
     "exception": false,
     "start_time": "2022-09-22T18:45:06.144234",
     "status": "completed"
    },
    "tags": []
   },
   "outputs": [
    {
     "name": "stdout",
     "output_type": "stream",
     "text": [
      "<class 'pandas.core.frame.DataFrame'>\n",
      "RangeIndex: 5572 entries, 0 to 5571\n",
      "Data columns (total 2 columns):\n",
      " #   Column    Non-Null Count  Dtype \n",
      "---  ------    --------------  ----- \n",
      " 0   labels    5572 non-null   object\n",
      " 1   messages  5572 non-null   object\n",
      "dtypes: object(2)\n",
      "memory usage: 87.2+ KB\n"
     ]
    }
   ],
   "source": [
    "df.info()"
   ]
  },
  {
   "cell_type": "code",
   "execution_count": 7,
   "id": "191c21f5",
   "metadata": {
    "execution": {
     "iopub.execute_input": "2022-09-22T18:45:06.214675Z",
     "iopub.status.busy": "2022-09-22T18:45:06.213902Z",
     "iopub.status.idle": "2022-09-22T18:45:06.232210Z",
     "shell.execute_reply": "2022-09-22T18:45:06.230850Z"
    },
    "papermill": {
     "duration": 0.035456,
     "end_time": "2022-09-22T18:45:06.234793",
     "exception": false,
     "start_time": "2022-09-22T18:45:06.199337",
     "status": "completed"
    },
    "tags": []
   },
   "outputs": [
    {
     "data": {
      "text/html": [
       "<div>\n",
       "<style scoped>\n",
       "    .dataframe tbody tr th:only-of-type {\n",
       "        vertical-align: middle;\n",
       "    }\n",
       "\n",
       "    .dataframe tbody tr th {\n",
       "        vertical-align: top;\n",
       "    }\n",
       "\n",
       "    .dataframe thead th {\n",
       "        text-align: right;\n",
       "    }\n",
       "</style>\n",
       "<table border=\"1\" class=\"dataframe\">\n",
       "  <thead>\n",
       "    <tr style=\"text-align: right;\">\n",
       "      <th></th>\n",
       "      <th>labels</th>\n",
       "      <th>messages</th>\n",
       "    </tr>\n",
       "  </thead>\n",
       "  <tbody>\n",
       "    <tr>\n",
       "      <th>count</th>\n",
       "      <td>5572</td>\n",
       "      <td>5572</td>\n",
       "    </tr>\n",
       "    <tr>\n",
       "      <th>unique</th>\n",
       "      <td>2</td>\n",
       "      <td>5169</td>\n",
       "    </tr>\n",
       "    <tr>\n",
       "      <th>top</th>\n",
       "      <td>ham</td>\n",
       "      <td>Sorry, I'll call later</td>\n",
       "    </tr>\n",
       "    <tr>\n",
       "      <th>freq</th>\n",
       "      <td>4825</td>\n",
       "      <td>30</td>\n",
       "    </tr>\n",
       "  </tbody>\n",
       "</table>\n",
       "</div>"
      ],
      "text/plain": [
       "       labels                messages\n",
       "count    5572                    5572\n",
       "unique      2                    5169\n",
       "top       ham  Sorry, I'll call later\n",
       "freq     4825                      30"
      ]
     },
     "execution_count": 7,
     "metadata": {},
     "output_type": "execute_result"
    }
   ],
   "source": [
    "df.describe(include=\"all\")"
   ]
  },
  {
   "cell_type": "code",
   "execution_count": 8,
   "id": "83be0cdd",
   "metadata": {
    "execution": {
     "iopub.execute_input": "2022-09-22T18:45:06.263526Z",
     "iopub.status.busy": "2022-09-22T18:45:06.262623Z",
     "iopub.status.idle": "2022-09-22T18:45:06.290552Z",
     "shell.execute_reply": "2022-09-22T18:45:06.289538Z"
    },
    "papermill": {
     "duration": 0.044817,
     "end_time": "2022-09-22T18:45:06.292994",
     "exception": false,
     "start_time": "2022-09-22T18:45:06.248177",
     "status": "completed"
    },
    "tags": []
   },
   "outputs": [
    {
     "data": {
      "text/html": [
       "<div>\n",
       "<style scoped>\n",
       "    .dataframe tbody tr th:only-of-type {\n",
       "        vertical-align: middle;\n",
       "    }\n",
       "\n",
       "    .dataframe tbody tr th {\n",
       "        vertical-align: top;\n",
       "    }\n",
       "\n",
       "    .dataframe thead tr th {\n",
       "        text-align: left;\n",
       "    }\n",
       "\n",
       "    .dataframe thead tr:last-of-type th {\n",
       "        text-align: right;\n",
       "    }\n",
       "</style>\n",
       "<table border=\"1\" class=\"dataframe\">\n",
       "  <thead>\n",
       "    <tr>\n",
       "      <th></th>\n",
       "      <th colspan=\"4\" halign=\"left\">messages</th>\n",
       "    </tr>\n",
       "    <tr>\n",
       "      <th></th>\n",
       "      <th>count</th>\n",
       "      <th>unique</th>\n",
       "      <th>top</th>\n",
       "      <th>freq</th>\n",
       "    </tr>\n",
       "    <tr>\n",
       "      <th>labels</th>\n",
       "      <th></th>\n",
       "      <th></th>\n",
       "      <th></th>\n",
       "      <th></th>\n",
       "    </tr>\n",
       "  </thead>\n",
       "  <tbody>\n",
       "    <tr>\n",
       "      <th>ham</th>\n",
       "      <td>4825</td>\n",
       "      <td>4516</td>\n",
       "      <td>Sorry, I'll call later</td>\n",
       "      <td>30</td>\n",
       "    </tr>\n",
       "    <tr>\n",
       "      <th>spam</th>\n",
       "      <td>747</td>\n",
       "      <td>653</td>\n",
       "      <td>Please call our customer service representativ...</td>\n",
       "      <td>4</td>\n",
       "    </tr>\n",
       "  </tbody>\n",
       "</table>\n",
       "</div>"
      ],
      "text/plain": [
       "       messages                                                               \n",
       "          count unique                                                top freq\n",
       "labels                                                                        \n",
       "ham        4825   4516                             Sorry, I'll call later   30\n",
       "spam        747    653  Please call our customer service representativ...    4"
      ]
     },
     "execution_count": 8,
     "metadata": {},
     "output_type": "execute_result"
    }
   ],
   "source": [
    "df.groupby('labels').describe(include='all')"
   ]
  },
  {
   "cell_type": "code",
   "execution_count": 9,
   "id": "af9852c9",
   "metadata": {
    "execution": {
     "iopub.execute_input": "2022-09-22T18:45:06.322330Z",
     "iopub.status.busy": "2022-09-22T18:45:06.321113Z",
     "iopub.status.idle": "2022-09-22T18:45:06.329385Z",
     "shell.execute_reply": "2022-09-22T18:45:06.328296Z"
    },
    "papermill": {
     "duration": 0.025187,
     "end_time": "2022-09-22T18:45:06.331742",
     "exception": false,
     "start_time": "2022-09-22T18:45:06.306555",
     "status": "completed"
    },
    "tags": []
   },
   "outputs": [],
   "source": [
    "df['msg_length']=df['messages'].apply(len)"
   ]
  },
  {
   "cell_type": "code",
   "execution_count": 10,
   "id": "ae061836",
   "metadata": {
    "execution": {
     "iopub.execute_input": "2022-09-22T18:45:06.360711Z",
     "iopub.status.busy": "2022-09-22T18:45:06.359980Z",
     "iopub.status.idle": "2022-09-22T18:45:06.370734Z",
     "shell.execute_reply": "2022-09-22T18:45:06.369688Z"
    },
    "papermill": {
     "duration": 0.027891,
     "end_time": "2022-09-22T18:45:06.373067",
     "exception": false,
     "start_time": "2022-09-22T18:45:06.345176",
     "status": "completed"
    },
    "tags": []
   },
   "outputs": [
    {
     "data": {
      "text/html": [
       "<div>\n",
       "<style scoped>\n",
       "    .dataframe tbody tr th:only-of-type {\n",
       "        vertical-align: middle;\n",
       "    }\n",
       "\n",
       "    .dataframe tbody tr th {\n",
       "        vertical-align: top;\n",
       "    }\n",
       "\n",
       "    .dataframe thead th {\n",
       "        text-align: right;\n",
       "    }\n",
       "</style>\n",
       "<table border=\"1\" class=\"dataframe\">\n",
       "  <thead>\n",
       "    <tr style=\"text-align: right;\">\n",
       "      <th></th>\n",
       "      <th>labels</th>\n",
       "      <th>messages</th>\n",
       "      <th>msg_length</th>\n",
       "    </tr>\n",
       "  </thead>\n",
       "  <tbody>\n",
       "    <tr>\n",
       "      <th>0</th>\n",
       "      <td>ham</td>\n",
       "      <td>Go until jurong point, crazy.. Available only ...</td>\n",
       "      <td>111</td>\n",
       "    </tr>\n",
       "    <tr>\n",
       "      <th>1</th>\n",
       "      <td>ham</td>\n",
       "      <td>Ok lar... Joking wif u oni...</td>\n",
       "      <td>29</td>\n",
       "    </tr>\n",
       "    <tr>\n",
       "      <th>2</th>\n",
       "      <td>spam</td>\n",
       "      <td>Free entry in 2 a wkly comp to win FA Cup fina...</td>\n",
       "      <td>155</td>\n",
       "    </tr>\n",
       "    <tr>\n",
       "      <th>3</th>\n",
       "      <td>ham</td>\n",
       "      <td>U dun say so early hor... U c already then say...</td>\n",
       "      <td>49</td>\n",
       "    </tr>\n",
       "    <tr>\n",
       "      <th>4</th>\n",
       "      <td>ham</td>\n",
       "      <td>Nah I don't think he goes to usf, he lives aro...</td>\n",
       "      <td>61</td>\n",
       "    </tr>\n",
       "  </tbody>\n",
       "</table>\n",
       "</div>"
      ],
      "text/plain": [
       "  labels                                           messages  msg_length\n",
       "0    ham  Go until jurong point, crazy.. Available only ...         111\n",
       "1    ham                      Ok lar... Joking wif u oni...          29\n",
       "2   spam  Free entry in 2 a wkly comp to win FA Cup fina...         155\n",
       "3    ham  U dun say so early hor... U c already then say...          49\n",
       "4    ham  Nah I don't think he goes to usf, he lives aro...          61"
      ]
     },
     "execution_count": 10,
     "metadata": {},
     "output_type": "execute_result"
    }
   ],
   "source": [
    "df.head()"
   ]
  },
  {
   "cell_type": "code",
   "execution_count": 11,
   "id": "306393f6",
   "metadata": {
    "execution": {
     "iopub.execute_input": "2022-09-22T18:45:06.403228Z",
     "iopub.status.busy": "2022-09-22T18:45:06.402774Z",
     "iopub.status.idle": "2022-09-22T18:45:07.057687Z",
     "shell.execute_reply": "2022-09-22T18:45:07.056578Z"
    },
    "papermill": {
     "duration": 0.673268,
     "end_time": "2022-09-22T18:45:07.060269",
     "exception": false,
     "start_time": "2022-09-22T18:45:06.387001",
     "status": "completed"
    },
    "tags": []
   },
   "outputs": [
    {
     "name": "stderr",
     "output_type": "stream",
     "text": [
      "/opt/conda/lib/python3.7/site-packages/seaborn/distributions.py:2619: FutureWarning: `distplot` is a deprecated function and will be removed in a future version. Please adapt your code to use either `displot` (a figure-level function with similar flexibility) or `histplot` (an axes-level function for histograms).\n",
      "  warnings.warn(msg, FutureWarning)\n"
     ]
    },
    {
     "data": {
      "text/plain": [
       "<AxesSubplot:xlabel='msg_length', ylabel='Density'>"
      ]
     },
     "execution_count": 11,
     "metadata": {},
     "output_type": "execute_result"
    },
    {
     "data": {
      "image/png": "[encoded data removed]",
      "text/plain": [
       "<Figure size 432x288 with 1 Axes>"
      ]
     },
     "metadata": {},
     "output_type": "display_data"
    }
   ],
   "source": [
    "sns.distplot(df['msg_length'], bins=200)"
   ]
  },
  {
   "cell_type": "code",
   "execution_count": 12,
   "id": "d0680a93",
   "metadata": {
    "execution": {
     "iopub.execute_input": "2022-09-22T18:45:07.093642Z",
     "iopub.status.busy": "2022-09-22T18:45:07.093025Z",
     "iopub.status.idle": "2022-09-22T18:45:08.341806Z",
     "shell.execute_reply": "2022-09-22T18:45:08.340632Z"
    },
    "papermill": {
     "duration": 1.266786,
     "end_time": "2022-09-22T18:45:08.344313",
     "exception": false,
     "start_time": "2022-09-22T18:45:07.077527",
     "status": "completed"
    },
    "tags": []
   },
   "outputs": [
    {
     "data": {
      "image/png": "[encoded data removed]",
      "text/plain": [
       "<Figure size 864x576 with 1 Axes>"
      ]
     },
     "metadata": {},
     "output_type": "display_data"
    }
   ],
   "source": [
    "plt.figure(figsize=(12,8))\n",
    "sns.histplot(data=df, x='msg_length', hue='labels', bins=200)\n",
    "sns.despine()"
   ]
  },
  {
   "cell_type": "code",
   "execution_count": 13,
   "id": "75fdd646",
   "metadata": {
    "execution": {
     "iopub.execute_input": "2022-09-22T18:45:08.375852Z",
     "iopub.status.busy": "2022-09-22T18:45:08.375436Z",
     "iopub.status.idle": "2022-09-22T18:45:08.955222Z",
     "shell.execute_reply": "2022-09-22T18:45:08.954058Z"
    },
    "papermill": {
     "duration": 0.598077,
     "end_time": "2022-09-22T18:45:08.957523",
     "exception": false,
     "start_time": "2022-09-22T18:45:08.359446",
     "status": "completed"
    },
    "tags": []
   },
   "outputs": [
    {
     "data": {
      "text/plain": [
       "array([<AxesSubplot:title={'center':'ham'}>,\n",
       "       <AxesSubplot:title={'center':'spam'}>], dtype=object)"
      ]
     },
     "execution_count": 13,
     "metadata": {},
     "output_type": "execute_result"
    },
    {
     "data": {
      "image/png": "[encoded data removed]",
      "text/plain": [
       "<Figure size 720x576 with 2 Axes>"
      ]
     },
     "metadata": {},
     "output_type": "display_data"
    }
   ],
   "source": [
    "df.hist(column='msg_length',by='labels', figsize=(10,8), bins=60)"
   ]
  },
  {
   "cell_type": "code",
   "execution_count": 14,
   "id": "065e0b5b",
   "metadata": {
    "execution": {
     "iopub.execute_input": "2022-09-22T18:45:08.991026Z",
     "iopub.status.busy": "2022-09-22T18:45:08.989813Z",
     "iopub.status.idle": "2022-09-22T18:45:08.999423Z",
     "shell.execute_reply": "2022-09-22T18:45:08.998195Z"
    },
    "papermill": {
     "duration": 0.029279,
     "end_time": "2022-09-22T18:45:09.001844",
     "exception": false,
     "start_time": "2022-09-22T18:45:08.972565",
     "status": "completed"
    },
    "tags": []
   },
   "outputs": [
    {
     "data": {
      "text/plain": [
       "1085    For me the love should start with attraction.i...\n",
       "Name: messages, dtype: object"
      ]
     },
     "execution_count": 14,
     "metadata": {},
     "output_type": "execute_result"
    }
   ],
   "source": [
    "df[df[\"msg_length\"]==910][\"messages\"]"
   ]
  },
  {
   "cell_type": "code",
   "execution_count": 15,
   "id": "cf27d348",
   "metadata": {
    "execution": {
     "iopub.execute_input": "2022-09-22T18:45:09.035545Z",
     "iopub.status.busy": "2022-09-22T18:45:09.035123Z",
     "iopub.status.idle": "2022-09-22T18:45:09.041250Z",
     "shell.execute_reply": "2022-09-22T18:45:09.040258Z"
    },
    "papermill": {
     "duration": 0.026066,
     "end_time": "2022-09-22T18:45:09.043770",
     "exception": false,
     "start_time": "2022-09-22T18:45:09.017704",
     "status": "completed"
    },
    "tags": []
   },
   "outputs": [],
   "source": [
    "sample = df[df[\"msg_length\"]==910][\"messages\"].iloc[0]"
   ]
  },
  {
   "cell_type": "code",
   "execution_count": 16,
   "id": "b989a752",
   "metadata": {
    "execution": {
     "iopub.execute_input": "2022-09-22T18:45:09.076466Z",
     "iopub.status.busy": "2022-09-22T18:45:09.076069Z",
     "iopub.status.idle": "2022-09-22T18:45:09.082426Z",
     "shell.execute_reply": "2022-09-22T18:45:09.081361Z"
    },
    "papermill": {
     "duration": 0.024912,
     "end_time": "2022-09-22T18:45:09.084398",
     "exception": false,
     "start_time": "2022-09-22T18:45:09.059486",
     "status": "completed"
    },
    "tags": []
   },
   "outputs": [
    {
     "data": {
      "text/plain": [
       "\"For me the love should start with attraction.i should feel that I need her every time around me.she should be the first thing which comes in my thoughts.I would start the day and end it with her.she should be there every time I dream.love will be then when my every breath has her name.my life should happen around her.my life will be named to her.I would cry for her.will give all my happiness and take all her sorrows.I will be ready to fight with anyone for her.I will be in love when I will be doing the craziest things for her.love will be when I don't have to proove anyone that my girl is the most beautiful lady on the whole planet.I will always be singing praises for her.love will be when I start up making chicken curry and end up makiing sambar.life will be the most beautiful then.will get every morning and thank god for the day because she is with me.I would like to say a lot..will tell later..\""
      ]
     },
     "execution_count": 16,
     "metadata": {},
     "output_type": "execute_result"
    }
   ],
   "source": [
    "sample"
   ]
  },
  {
   "cell_type": "code",
   "execution_count": 17,
   "id": "1db0a268",
   "metadata": {
    "execution": {
     "iopub.execute_input": "2022-09-22T18:45:09.116980Z",
     "iopub.status.busy": "2022-09-22T18:45:09.116396Z",
     "iopub.status.idle": "2022-09-22T18:45:09.155096Z",
     "shell.execute_reply": "2022-09-22T18:45:09.153647Z"
    },
    "papermill": {
     "duration": 0.057989,
     "end_time": "2022-09-22T18:45:09.157688",
     "exception": false,
     "start_time": "2022-09-22T18:45:09.099699",
     "status": "completed"
    },
    "tags": []
   },
   "outputs": [
    {
     "name": "stdout",
     "output_type": "stream",
     "text": [
      "['love', 'start', 'attraction', 'feel', 'need', 'every', 'time', 'around', 'first', 'thing', 'comes', 'thoughts', 'would', 'start', 'day', 'end', 'every', 'time', 'dream', 'love', 'every', 'breath', 'name', 'life', 'happen', 'around', 'life', 'named', 'would', 'cry', 'give', 'happiness', 'take', 'sorrows', 'ready', 'fight', 'anyone', 'love', 'craziest', 'things', 'love', 'proove', 'anyone', 'girl', 'beautiful', 'lady', 'whole', 'planet', 'always', 'singing', 'praises', 'love', 'start', 'making', 'chicken', 'curry', 'end', 'makiing', 'sambar', 'life', 'beautiful', 'get', 'every', 'morning', 'thank', 'god', 'day', 'would', 'like', 'say', 'lot', 'tell', 'later']\n"
     ]
    }
   ],
   "source": [
    "sd1 = [y.split() for y in sample.lower().split(\".\")]\n",
    "\n",
    "word_vec = []\n",
    "for i in sd1:\n",
    "    \n",
    "    w = [j for j in i if j not in stopwords.words(\"english\")]\n",
    "    for g in w:\n",
    "        word_vec.append(g)\n",
    "print(word_vec)"
   ]
  },
  {
   "cell_type": "code",
   "execution_count": 18,
   "id": "57f94095",
   "metadata": {
    "execution": {
     "iopub.execute_input": "2022-09-22T18:45:09.190402Z",
     "iopub.status.busy": "2022-09-22T18:45:09.190020Z",
     "iopub.status.idle": "2022-09-22T18:45:09.197617Z",
     "shell.execute_reply": "2022-09-22T18:45:09.196362Z"
    },
    "papermill": {
     "duration": 0.026889,
     "end_time": "2022-09-22T18:45:09.200101",
     "exception": false,
     "start_time": "2022-09-22T18:45:09.173212",
     "status": "completed"
    },
    "tags": []
   },
   "outputs": [],
   "source": [
    "bow_mess = CountVectorizer().fit_transform(word_vec)"
   ]
  },
  {
   "cell_type": "code",
   "execution_count": 19,
   "id": "82e47e64",
   "metadata": {
    "execution": {
     "iopub.execute_input": "2022-09-22T18:45:09.232592Z",
     "iopub.status.busy": "2022-09-22T18:45:09.232218Z",
     "iopub.status.idle": "2022-09-22T18:45:09.238640Z",
     "shell.execute_reply": "2022-09-22T18:45:09.237515Z"
    },
    "papermill": {
     "duration": 0.026123,
     "end_time": "2022-09-22T18:45:09.241681",
     "exception": false,
     "start_time": "2022-09-22T18:45:09.215558",
     "status": "completed"
    },
    "tags": []
   },
   "outputs": [
    {
     "name": "stdout",
     "output_type": "stream",
     "text": [
      "  (0, 29)\t1\n",
      "  (1, 44)\t1\n",
      "  (2, 3)\t1\n",
      "  (3, 15)\t1\n",
      "  (4, 35)\t1\n",
      "  (5, 14)\t1\n",
      "  (6, 51)\t1\n",
      "  (7, 2)\t1\n",
      "  (8, 17)\t1\n",
      "  (9, 48)\t1\n",
      "  (10, 7)\t1\n",
      "  (11, 50)\t1\n",
      "  (12, 53)\t1\n",
      "  (13, 44)\t1\n",
      "  (14, 11)\t1\n",
      "  (15, 13)\t1\n",
      "  (16, 14)\t1\n",
      "  (17, 51)\t1\n",
      "  (18, 12)\t1\n",
      "  (19, 29)\t1\n",
      "  (20, 14)\t1\n",
      "  (21, 5)\t1\n",
      "  (22, 33)\t1\n",
      "  (23, 26)\t1\n",
      "  (24, 22)\t1\n",
      "  :\t:\n",
      "  (48, 0)\t1\n",
      "  (49, 42)\t1\n",
      "  (50, 37)\t1\n",
      "  (51, 29)\t1\n",
      "  (52, 44)\t1\n",
      "  (53, 31)\t1\n",
      "  (54, 6)\t1\n",
      "  (55, 10)\t1\n",
      "  (56, 13)\t1\n",
      "  (57, 30)\t1\n",
      "  (58, 40)\t1\n",
      "  (59, 26)\t1\n",
      "  (60, 4)\t1\n",
      "  (61, 18)\t1\n",
      "  (62, 14)\t1\n",
      "  (63, 32)\t1\n",
      "  (64, 47)\t1\n",
      "  (65, 21)\t1\n",
      "  (66, 11)\t1\n",
      "  (67, 53)\t1\n",
      "  (68, 27)\t1\n",
      "  (69, 41)\t1\n",
      "  (70, 28)\t1\n",
      "  (71, 46)\t1\n",
      "  (72, 25)\t1\n"
     ]
    }
   ],
   "source": [
    "print(bow_mess)"
   ]
  },
  {
   "cell_type": "code",
   "execution_count": 20,
   "id": "f9a194bd",
   "metadata": {
    "execution": {
     "iopub.execute_input": "2022-09-22T18:45:09.275028Z",
     "iopub.status.busy": "2022-09-22T18:45:09.274627Z",
     "iopub.status.idle": "2022-09-22T18:45:09.280961Z",
     "shell.execute_reply": "2022-09-22T18:45:09.279942Z"
    },
    "papermill": {
     "duration": 0.025882,
     "end_time": "2022-09-22T18:45:09.283218",
     "exception": false,
     "start_time": "2022-09-22T18:45:09.257336",
     "status": "completed"
    },
    "tags": []
   },
   "outputs": [],
   "source": [
    "def text_prepros(message):\n",
    "    sd1 = [y.split() for y in message.lower().split(\".\")]\n",
    "    word_vec = []\n",
    "    for i in sd1:\n",
    "        w = [j for j in i if j not in stopwords.words(\"english\")]\n",
    "        for g in w:\n",
    "            word_vec.append(g)\n",
    "    return word_vec"
   ]
  },
  {
   "cell_type": "code",
   "execution_count": 21,
   "id": "91793548",
   "metadata": {
    "execution": {
     "iopub.execute_input": "2022-09-22T18:45:09.316197Z",
     "iopub.status.busy": "2022-09-22T18:45:09.315753Z",
     "iopub.status.idle": "2022-09-22T18:45:09.337842Z",
     "shell.execute_reply": "2022-09-22T18:45:09.336915Z"
    },
    "papermill": {
     "duration": 0.040944,
     "end_time": "2022-09-22T18:45:09.339945",
     "exception": false,
     "start_time": "2022-09-22T18:45:09.299001",
     "status": "completed"
    },
    "tags": []
   },
   "outputs": [
    {
     "data": {
      "text/plain": [
       "0    [go, jurong, point,, crazy, available, bugis, ...\n",
       "1                       [ok, lar, joking, wif, u, oni]\n",
       "2    [free, entry, 2, wkly, comp, win, fa, cup, fin...\n",
       "3        [u, dun, say, early, hor, u, c, already, say]\n",
       "4      [nah, think, goes, usf,, lives, around, though]\n",
       "Name: messages, dtype: object"
      ]
     },
     "execution_count": 21,
     "metadata": {},
     "output_type": "execute_result"
    }
   ],
   "source": [
    "df[\"messages\"].head(5).apply(text_prepros)"
   ]
  },
  {
   "cell_type": "code",
   "execution_count": 22,
   "id": "c5715293",
   "metadata": {
    "execution": {
     "iopub.execute_input": "2022-09-22T18:45:09.372836Z",
     "iopub.status.busy": "2022-09-22T18:45:09.372445Z",
     "iopub.status.idle": "2022-09-22T18:45:21.180101Z",
     "shell.execute_reply": "2022-09-22T18:45:21.178928Z"
    },
    "papermill": {
     "duration": 11.827203,
     "end_time": "2022-09-22T18:45:21.182753",
     "exception": false,
     "start_time": "2022-09-22T18:45:09.355550",
     "status": "completed"
    },
    "tags": []
   },
   "outputs": [],
   "source": [
    "bow_mess = CountVectorizer(analyzer=text_prepros).fit(df[\"messages\"])"
   ]
  },
  {
   "cell_type": "code",
   "execution_count": 23,
   "id": "bba2bb5d",
   "metadata": {
    "execution": {
     "iopub.execute_input": "2022-09-22T18:45:21.216120Z",
     "iopub.status.busy": "2022-09-22T18:45:21.215508Z",
     "iopub.status.idle": "2022-09-22T18:45:21.222981Z",
     "shell.execute_reply": "2022-09-22T18:45:21.222042Z"
    },
    "papermill": {
     "duration": 0.026355,
     "end_time": "2022-09-22T18:45:21.225029",
     "exception": false,
     "start_time": "2022-09-22T18:45:21.198674",
     "status": "completed"
    },
    "tags": []
   },
   "outputs": [
    {
     "data": {
      "text/plain": [
       "\"For me the love should start with attraction.i should feel that I need her every time around me.she should be the first thing which comes in my thoughts.I would start the day and end it with her.she should be there every time I dream.love will be then when my every breath has her name.my life should happen around her.my life will be named to her.I would cry for her.will give all my happiness and take all her sorrows.I will be ready to fight with anyone for her.I will be in love when I will be doing the craziest things for her.love will be when I don't have to proove anyone that my girl is the most beautiful lady on the whole planet.I will always be singing praises for her.love will be when I start up making chicken curry and end up makiing sambar.life will be the most beautiful then.will get every morning and thank god for the day because she is with me.I would like to say a lot..will tell later..\""
      ]
     },
     "execution_count": 23,
     "metadata": {},
     "output_type": "execute_result"
    }
   ],
   "source": [
    "mess_1085 = df[\"messages\"][1085]\n",
    "mess_1085"
   ]
  },
  {
   "cell_type": "code",
   "execution_count": 24,
   "id": "a79019c2",
   "metadata": {
    "execution": {
     "iopub.execute_input": "2022-09-22T18:45:21.258850Z",
     "iopub.status.busy": "2022-09-22T18:45:21.257757Z",
     "iopub.status.idle": "2022-09-22T18:45:21.287545Z",
     "shell.execute_reply": "2022-09-22T18:45:21.286399Z"
    },
    "papermill": {
     "duration": 0.049421,
     "end_time": "2022-09-22T18:45:21.290367",
     "exception": false,
     "start_time": "2022-09-22T18:45:21.240946",
     "status": "completed"
    },
    "tags": []
   },
   "outputs": [],
   "source": [
    "bow_1085 = bow_mess.transform([mess_1085])"
   ]
  },
  {
   "cell_type": "code",
   "execution_count": 25,
   "id": "6555d2c8",
   "metadata": {
    "execution": {
     "iopub.execute_input": "2022-09-22T18:45:21.323787Z",
     "iopub.status.busy": "2022-09-22T18:45:21.323407Z",
     "iopub.status.idle": "2022-09-22T18:45:21.329211Z",
     "shell.execute_reply": "2022-09-22T18:45:21.328068Z"
    },
    "papermill": {
     "duration": 0.025366,
     "end_time": "2022-09-22T18:45:21.331743",
     "exception": false,
     "start_time": "2022-09-22T18:45:21.306377",
     "status": "completed"
    },
    "tags": []
   },
   "outputs": [
    {
     "name": "stdout",
     "output_type": "stream",
     "text": [
      "  (0, 1557)\t1\n",
      "  (0, 1638)\t2\n",
      "  (0, 1735)\t2\n",
      "  (0, 1827)\t1\n",
      "  (0, 2041)\t2\n",
      "  (0, 2345)\t1\n",
      "  (0, 2769)\t1\n",
      "  (0, 2954)\t1\n",
      "  (0, 3157)\t1\n",
      "  (0, 3196)\t1\n",
      "  (0, 3230)\t1\n",
      "  (0, 3324)\t2\n",
      "  (0, 3688)\t1\n",
      "  (0, 3887)\t2\n",
      "  (0, 4001)\t4\n",
      "  (0, 4182)\t1\n",
      "  (0, 4216)\t1\n",
      "  (0, 4269)\t1\n",
      "  (0, 4626)\t1\n",
      "  (0, 4654)\t1\n",
      "  (0, 4664)\t1\n",
      "  (0, 4696)\t1\n",
      "  (0, 4917)\t1\n",
      "  (0, 4930)\t1\n",
      "  (0, 5917)\t1\n",
      "  :\t:\n",
      "  (0, 6245)\t5\n",
      "  (0, 6374)\t1\n",
      "  (0, 6376)\t1\n",
      "  (0, 6738)\t1\n",
      "  (0, 6887)\t1\n",
      "  (0, 6892)\t1\n",
      "  (0, 6932)\t1\n",
      "  (0, 7681)\t1\n",
      "  (0, 7849)\t1\n",
      "  (0, 7983)\t1\n",
      "  (0, 8168)\t1\n",
      "  (0, 8573)\t1\n",
      "  (0, 8621)\t1\n",
      "  (0, 8950)\t1\n",
      "  (0, 9162)\t1\n",
      "  (0, 9317)\t3\n",
      "  (0, 9652)\t1\n",
      "  (0, 9736)\t1\n",
      "  (0, 9798)\t1\n",
      "  (0, 9868)\t1\n",
      "  (0, 9872)\t1\n",
      "  (0, 9910)\t1\n",
      "  (0, 9951)\t2\n",
      "  (0, 10812)\t1\n",
      "  (0, 10977)\t3\n"
     ]
    }
   ],
   "source": [
    "print(bow_1085)"
   ]
  },
  {
   "cell_type": "code",
   "execution_count": 26,
   "id": "a1bc7523",
   "metadata": {
    "execution": {
     "iopub.execute_input": "2022-09-22T18:45:21.364694Z",
     "iopub.status.busy": "2022-09-22T18:45:21.364317Z",
     "iopub.status.idle": "2022-09-22T18:45:21.379756Z",
     "shell.execute_reply": "2022-09-22T18:45:21.378350Z"
    },
    "papermill": {
     "duration": 0.035214,
     "end_time": "2022-09-22T18:45:21.382606",
     "exception": false,
     "start_time": "2022-09-22T18:45:21.347392",
     "status": "completed"
    },
    "tags": []
   },
   "outputs": [
    {
     "name": "stderr",
     "output_type": "stream",
     "text": [
      "/opt/conda/lib/python3.7/site-packages/sklearn/utils/deprecation.py:87: FutureWarning: Function get_feature_names is deprecated; get_feature_names is deprecated in 1.0 and will be removed in 1.2. Please use get_feature_names_out instead.\n",
      "  warnings.warn(msg, category=FutureWarning)\n"
     ]
    },
    {
     "data": {
      "text/plain": [
       "'love'"
      ]
     },
     "execution_count": 26,
     "metadata": {},
     "output_type": "execute_result"
    }
   ],
   "source": [
    "bow_mess.get_feature_names()[6245]"
   ]
  },
  {
   "cell_type": "markdown",
   "id": "bae70d03",
   "metadata": {
    "papermill": {
     "duration": 0.015534,
     "end_time": "2022-09-22T18:45:21.414506",
     "exception": false,
     "start_time": "2022-09-22T18:45:21.398972",
     "status": "completed"
    },
    "tags": []
   },
   "source": [
    "## Data Splitting and Pipeline creation"
   ]
  },
  {
   "cell_type": "code",
   "execution_count": 27,
   "id": "daf00f3f",
   "metadata": {
    "execution": {
     "iopub.execute_input": "2022-09-22T18:45:21.448561Z",
     "iopub.status.busy": "2022-09-22T18:45:21.447595Z",
     "iopub.status.idle": "2022-09-22T18:45:21.455937Z",
     "shell.execute_reply": "2022-09-22T18:45:21.454738Z"
    },
    "papermill": {
     "duration": 0.028124,
     "end_time": "2022-09-22T18:45:21.458476",
     "exception": false,
     "start_time": "2022-09-22T18:45:21.430352",
     "status": "completed"
    },
    "tags": []
   },
   "outputs": [],
   "source": [
    "msg_train, msg_test, label_train, label_test = train_test_split(df['messages'], df['labels'], test_size=0.30)"
   ]
  },
  {
   "cell_type": "markdown",
   "id": "5b16a93d",
   "metadata": {
    "papermill": {
     "duration": 0.015472,
     "end_time": "2022-09-22T18:45:21.489933",
     "exception": false,
     "start_time": "2022-09-22T18:45:21.474461",
     "status": "completed"
    },
    "tags": []
   },
   "source": [
    "### Classification using Naive Bayes classifier"
   ]
  },
  {
   "cell_type": "code",
   "execution_count": 28,
   "id": "5958ac03",
   "metadata": {
    "execution": {
     "iopub.execute_input": "2022-09-22T18:45:21.523817Z",
     "iopub.status.busy": "2022-09-22T18:45:21.523404Z",
     "iopub.status.idle": "2022-09-22T18:45:21.528698Z",
     "shell.execute_reply": "2022-09-22T18:45:21.527563Z"
    },
    "papermill": {
     "duration": 0.025478,
     "end_time": "2022-09-22T18:45:21.531171",
     "exception": false,
     "start_time": "2022-09-22T18:45:21.505693",
     "status": "completed"
    },
    "tags": []
   },
   "outputs": [],
   "source": [
    "pipeline = Pipeline([\n",
    "    ('bow_mess', CountVectorizer(analyzer=text_prepros)),\n",
    "    ('tfidf_form', TfidfTransformer()),\n",
    "    ('classifier', MultinomialNB())\n",
    "])"
   ]
  },
  {
   "cell_type": "code",
   "execution_count": 29,
   "id": "29fa9920",
   "metadata": {
    "execution": {
     "iopub.execute_input": "2022-09-22T18:45:21.565057Z",
     "iopub.status.busy": "2022-09-22T18:45:21.564637Z",
     "iopub.status.idle": "2022-09-22T18:45:29.745542Z",
     "shell.execute_reply": "2022-09-22T18:45:29.744413Z"
    },
    "papermill": {
     "duration": 8.201084,
     "end_time": "2022-09-22T18:45:29.748194",
     "exception": false,
     "start_time": "2022-09-22T18:45:21.547110",
     "status": "completed"
    },
    "tags": []
   },
   "outputs": [
    {
     "data": {
      "text/plain": [
       "Pipeline(steps=[('bow_mess',\n",
       "                 CountVectorizer(analyzer=<function text_prepros at 0x7f0a47ce73b0>)),\n",
       "                ('tfidf_form', TfidfTransformer()),\n",
       "                ('classifier', MultinomialNB())])"
      ]
     },
     "execution_count": 29,
     "metadata": {},
     "output_type": "execute_result"
    }
   ],
   "source": [
    "pipeline.fit(msg_train, label_train)"
   ]
  },
  {
   "cell_type": "markdown",
   "id": "2544d613",
   "metadata": {
    "papermill": {
     "duration": 0.016022,
     "end_time": "2022-09-22T18:45:29.780412",
     "exception": false,
     "start_time": "2022-09-22T18:45:29.764390",
     "status": "completed"
    },
    "tags": []
   },
   "source": [
    "#### Predictions and assessing model accuracy "
   ]
  },
  {
   "cell_type": "code",
   "execution_count": 30,
   "id": "8a9353cb",
   "metadata": {
    "execution": {
     "iopub.execute_input": "2022-09-22T18:45:29.814436Z",
     "iopub.status.busy": "2022-09-22T18:45:29.814038Z",
     "iopub.status.idle": "2022-09-22T18:45:33.389047Z",
     "shell.execute_reply": "2022-09-22T18:45:33.387821Z"
    },
    "papermill": {
     "duration": 3.595513,
     "end_time": "2022-09-22T18:45:33.392018",
     "exception": false,
     "start_time": "2022-09-22T18:45:29.796505",
     "status": "completed"
    },
    "tags": []
   },
   "outputs": [],
   "source": [
    "prediction = pipeline.predict(msg_test)"
   ]
  },
  {
   "cell_type": "code",
   "execution_count": 31,
   "id": "f5107cce",
   "metadata": {
    "execution": {
     "iopub.execute_input": "2022-09-22T18:45:33.426612Z",
     "iopub.status.busy": "2022-09-22T18:45:33.426195Z",
     "iopub.status.idle": "2022-09-22T18:45:33.474415Z",
     "shell.execute_reply": "2022-09-22T18:45:33.472947Z"
    },
    "papermill": {
     "duration": 0.068631,
     "end_time": "2022-09-22T18:45:33.477042",
     "exception": false,
     "start_time": "2022-09-22T18:45:33.408411",
     "status": "completed"
    },
    "tags": []
   },
   "outputs": [
    {
     "name": "stdout",
     "output_type": "stream",
     "text": [
      "              precision    recall  f1-score   support\n",
      "\n",
      "         ham       0.95      1.00      0.98      1430\n",
      "        spam       1.00      0.70      0.83       242\n",
      "\n",
      "    accuracy                           0.96      1672\n",
      "   macro avg       0.98      0.85      0.90      1672\n",
      "weighted avg       0.96      0.96      0.95      1672\n",
      "\n"
     ]
    }
   ],
   "source": [
    "print(classification_report(label_test, prediction))"
   ]
  },
  {
   "cell_type": "markdown",
   "id": "8f87e844",
   "metadata": {
    "papermill": {
     "duration": 0.016361,
     "end_time": "2022-09-22T18:45:33.509521",
     "exception": false,
     "start_time": "2022-09-22T18:45:33.493160",
     "status": "completed"
    },
    "tags": []
   },
   "source": [
    "### Classification using RandomForest Classifier"
   ]
  },
  {
   "cell_type": "code",
   "execution_count": 32,
   "id": "221aced9",
   "metadata": {
    "execution": {
     "iopub.execute_input": "2022-09-22T18:45:33.544299Z",
     "iopub.status.busy": "2022-09-22T18:45:33.543899Z",
     "iopub.status.idle": "2022-09-22T18:45:33.549658Z",
     "shell.execute_reply": "2022-09-22T18:45:33.548472Z"
    },
    "papermill": {
     "duration": 0.025792,
     "end_time": "2022-09-22T18:45:33.551968",
     "exception": false,
     "start_time": "2022-09-22T18:45:33.526176",
     "status": "completed"
    },
    "tags": []
   },
   "outputs": [],
   "source": [
    "pipeline2 = Pipeline([\n",
    "    ('bow_mess', CountVectorizer(analyzer=text_prepros)),\n",
    "    ('tfidf_form', TfidfTransformer()),\n",
    "    ('classifier', RandomForestClassifier())\n",
    "])"
   ]
  },
  {
   "cell_type": "code",
   "execution_count": 33,
   "id": "243bb130",
   "metadata": {
    "execution": {
     "iopub.execute_input": "2022-09-22T18:45:33.586553Z",
     "iopub.status.busy": "2022-09-22T18:45:33.586111Z",
     "iopub.status.idle": "2022-09-22T18:45:42.819467Z",
     "shell.execute_reply": "2022-09-22T18:45:42.818320Z"
    },
    "papermill": {
     "duration": 9.253543,
     "end_time": "2022-09-22T18:45:42.821992",
     "exception": false,
     "start_time": "2022-09-22T18:45:33.568449",
     "status": "completed"
    },
    "tags": []
   },
   "outputs": [
    {
     "data": {
      "text/plain": [
       "Pipeline(steps=[('bow_mess',\n",
       "                 CountVectorizer(analyzer=<function text_prepros at 0x7f0a47ce73b0>)),\n",
       "                ('tfidf_form', TfidfTransformer()),\n",
       "                ('classifier', RandomForestClassifier())])"
      ]
     },
     "execution_count": 33,
     "metadata": {},
     "output_type": "execute_result"
    }
   ],
   "source": [
    "pipeline2.fit(msg_train, label_train)"
   ]
  },
  {
   "cell_type": "markdown",
   "id": "86714bbe",
   "metadata": {
    "papermill": {
     "duration": 0.015714,
     "end_time": "2022-09-22T18:45:42.853805",
     "exception": false,
     "start_time": "2022-09-22T18:45:42.838091",
     "status": "completed"
    },
    "tags": []
   },
   "source": [
    "#### Predictions and assessing model accuracy "
   ]
  },
  {
   "cell_type": "code",
   "execution_count": 34,
   "id": "59341004",
   "metadata": {
    "execution": {
     "iopub.execute_input": "2022-09-22T18:45:42.887695Z",
     "iopub.status.busy": "2022-09-22T18:45:42.887324Z",
     "iopub.status.idle": "2022-09-22T18:45:46.506030Z",
     "shell.execute_reply": "2022-09-22T18:45:46.505020Z"
    },
    "papermill": {
     "duration": 3.639143,
     "end_time": "2022-09-22T18:45:46.508977",
     "exception": false,
     "start_time": "2022-09-22T18:45:42.869834",
     "status": "completed"
    },
    "tags": []
   },
   "outputs": [],
   "source": [
    "prediction2 = pipeline2.predict(msg_test)"
   ]
  },
  {
   "cell_type": "code",
   "execution_count": 35,
   "id": "6272d7d9",
   "metadata": {
    "execution": {
     "iopub.execute_input": "2022-09-22T18:45:46.543916Z",
     "iopub.status.busy": "2022-09-22T18:45:46.543233Z",
     "iopub.status.idle": "2022-09-22T18:45:46.601505Z",
     "shell.execute_reply": "2022-09-22T18:45:46.599843Z"
    },
    "papermill": {
     "duration": 0.078663,
     "end_time": "2022-09-22T18:45:46.604176",
     "exception": false,
     "start_time": "2022-09-22T18:45:46.525513",
     "status": "completed"
    },
    "tags": []
   },
   "outputs": [
    {
     "name": "stdout",
     "output_type": "stream",
     "text": [
      "              precision    recall  f1-score   support\n",
      "\n",
      "         ham       0.96      1.00      0.98      1430\n",
      "        spam       1.00      0.78      0.87       242\n",
      "\n",
      "    accuracy                           0.97      1672\n",
      "   macro avg       0.98      0.89      0.93      1672\n",
      "weighted avg       0.97      0.97      0.97      1672\n",
      "\n"
     ]
    }
   ],
   "source": [
    "print(classification_report(label_test, prediction2))"
   ]
  },
  {
   "cell_type": "code",
   "execution_count": null,
   "id": "79b2ad84",
   "metadata": {
    "papermill": {
     "duration": 0.016393,
     "end_time": "2022-09-22T18:45:46.637172",
     "exception": false,
     "start_time": "2022-09-22T18:45:46.620779",
     "status": "completed"
    },
    "tags": []
   },
   "outputs": [],
   "source": []
  },
  {
   "cell_type": "markdown",
   "id": "f702eb70",
   "metadata": {
    "papermill": {
     "duration": 0.016387,
     "end_time": "2022-09-22T18:45:46.669959",
     "exception": false,
     "start_time": "2022-09-22T18:45:46.653572",
     "status": "completed"
    },
    "tags": []
   },
   "source": [
    "### Classification using LogisticRegression"
   ]
  },
  {
   "cell_type": "code",
   "execution_count": 36,
   "id": "6bb86d41",
   "metadata": {
    "execution": {
     "iopub.execute_input": "2022-09-22T18:45:46.705102Z",
     "iopub.status.busy": "2022-09-22T18:45:46.704674Z",
     "iopub.status.idle": "2022-09-22T18:45:46.710076Z",
     "shell.execute_reply": "2022-09-22T18:45:46.708948Z"
    },
    "papermill": {
     "duration": 0.025861,
     "end_time": "2022-09-22T18:45:46.712237",
     "exception": false,
     "start_time": "2022-09-22T18:45:46.686376",
     "status": "completed"
    },
    "tags": []
   },
   "outputs": [],
   "source": [
    "pipeline3 = Pipeline([\n",
    "    ('bow_mess', CountVectorizer(analyzer=text_prepros)),\n",
    "    ('tfidf_form', TfidfTransformer()),\n",
    "    ('classifier', LogisticRegression())\n",
    "])"
   ]
  },
  {
   "cell_type": "code",
   "execution_count": 37,
   "id": "928cbcdd",
   "metadata": {
    "execution": {
     "iopub.execute_input": "2022-09-22T18:45:46.748081Z",
     "iopub.status.busy": "2022-09-22T18:45:46.747649Z",
     "iopub.status.idle": "2022-09-22T18:45:55.273613Z",
     "shell.execute_reply": "2022-09-22T18:45:55.272368Z"
    },
    "papermill": {
     "duration": 8.546338,
     "end_time": "2022-09-22T18:45:55.276159",
     "exception": false,
     "start_time": "2022-09-22T18:45:46.729821",
     "status": "completed"
    },
    "tags": []
   },
   "outputs": [
    {
     "data": {
      "text/plain": [
       "Pipeline(steps=[('bow_mess',\n",
       "                 CountVectorizer(analyzer=<function text_prepros at 0x7f0a47ce73b0>)),\n",
       "                ('tfidf_form', TfidfTransformer()),\n",
       "                ('classifier', LogisticRegression())])"
      ]
     },
     "execution_count": 37,
     "metadata": {},
     "output_type": "execute_result"
    }
   ],
   "source": [
    "pipeline3.fit(msg_train, label_train)"
   ]
  },
  {
   "cell_type": "markdown",
   "id": "15a8e7dd",
   "metadata": {
    "papermill": {
     "duration": 0.016241,
     "end_time": "2022-09-22T18:45:55.308919",
     "exception": false,
     "start_time": "2022-09-22T18:45:55.292678",
     "status": "completed"
    },
    "tags": []
   },
   "source": [
    "#### Prediction & assessment"
   ]
  },
  {
   "cell_type": "code",
   "execution_count": 38,
   "id": "c6fc74bf",
   "metadata": {
    "execution": {
     "iopub.execute_input": "2022-09-22T18:45:55.343719Z",
     "iopub.status.busy": "2022-09-22T18:45:55.343346Z",
     "iopub.status.idle": "2022-09-22T18:45:58.924360Z",
     "shell.execute_reply": "2022-09-22T18:45:58.923085Z"
    },
    "papermill": {
     "duration": 3.601771,
     "end_time": "2022-09-22T18:45:58.927120",
     "exception": false,
     "start_time": "2022-09-22T18:45:55.325349",
     "status": "completed"
    },
    "tags": []
   },
   "outputs": [],
   "source": [
    "prediction3 = pipeline3.predict(msg_test)"
   ]
  },
  {
   "cell_type": "code",
   "execution_count": 39,
   "id": "7f0cf2a6",
   "metadata": {
    "execution": {
     "iopub.execute_input": "2022-09-22T18:45:58.961922Z",
     "iopub.status.busy": "2022-09-22T18:45:58.961479Z",
     "iopub.status.idle": "2022-09-22T18:45:59.022078Z",
     "shell.execute_reply": "2022-09-22T18:45:59.020809Z"
    },
    "papermill": {
     "duration": 0.08134,
     "end_time": "2022-09-22T18:45:59.025047",
     "exception": false,
     "start_time": "2022-09-22T18:45:58.943707",
     "status": "completed"
    },
    "tags": []
   },
   "outputs": [
    {
     "name": "stdout",
     "output_type": "stream",
     "text": [
      "              precision    recall  f1-score   support\n",
      "\n",
      "         ham       0.95      1.00      0.97      1430\n",
      "        spam       0.98      0.68      0.80       242\n",
      "\n",
      "    accuracy                           0.95      1672\n",
      "   macro avg       0.97      0.84      0.89      1672\n",
      "weighted avg       0.95      0.95      0.95      1672\n",
      "\n"
     ]
    }
   ],
   "source": [
    "print(classification_report(label_test, prediction3))"
   ]
  },
  {
   "cell_type": "code",
   "execution_count": null,
   "id": "256e2bc2",
   "metadata": {
    "papermill": {
     "duration": 0.016191,
     "end_time": "2022-09-22T18:45:59.057946",
     "exception": false,
     "start_time": "2022-09-22T18:45:59.041755",
     "status": "completed"
    },
    "tags": []
   },
   "outputs": [],
   "source": []
  },
  {
   "cell_type": "code",
   "execution_count": null,
   "id": "aad2dcd8",
   "metadata": {
    "papermill": {
     "duration": 0.016118,
     "end_time": "2022-09-22T18:45:59.090486",
     "exception": false,
     "start_time": "2022-09-22T18:45:59.074368",
     "status": "completed"
    },
    "tags": []
   },
   "outputs": [],
   "source": []
  },
  {
   "cell_type": "code",
   "execution_count": 40,
   "id": "8944cef8",
   "metadata": {
    "execution": {
     "iopub.execute_input": "2022-09-22T18:45:59.125645Z",
     "iopub.status.busy": "2022-09-22T18:45:59.125225Z",
     "iopub.status.idle": "2022-09-22T18:45:59.131053Z",
     "shell.execute_reply": "2022-09-22T18:45:59.129892Z"
    },
    "papermill": {
     "duration": 0.025957,
     "end_time": "2022-09-22T18:45:59.133413",
     "exception": false,
     "start_time": "2022-09-22T18:45:59.107456",
     "status": "completed"
    },
    "tags": []
   },
   "outputs": [],
   "source": [
    "from sklearn.ensemble import VotingClassifier"
   ]
  },
  {
   "cell_type": "code",
   "execution_count": 41,
   "id": "9002f4f5",
   "metadata": {
    "execution": {
     "iopub.execute_input": "2022-09-22T18:45:59.168648Z",
     "iopub.status.busy": "2022-09-22T18:45:59.168218Z",
     "iopub.status.idle": "2022-09-22T18:45:59.173441Z",
     "shell.execute_reply": "2022-09-22T18:45:59.172192Z"
    },
    "papermill": {
     "duration": 0.025737,
     "end_time": "2022-09-22T18:45:59.175900",
     "exception": false,
     "start_time": "2022-09-22T18:45:59.150163",
     "status": "completed"
    },
    "tags": []
   },
   "outputs": [],
   "source": [
    "c_1 = MultinomialNB()"
   ]
  },
  {
   "cell_type": "code",
   "execution_count": 42,
   "id": "a19a3334",
   "metadata": {
    "execution": {
     "iopub.execute_input": "2022-09-22T18:45:59.212228Z",
     "iopub.status.busy": "2022-09-22T18:45:59.211788Z",
     "iopub.status.idle": "2022-09-22T18:45:59.216394Z",
     "shell.execute_reply": "2022-09-22T18:45:59.215396Z"
    },
    "papermill": {
     "duration": 0.025763,
     "end_time": "2022-09-22T18:45:59.218470",
     "exception": false,
     "start_time": "2022-09-22T18:45:59.192707",
     "status": "completed"
    },
    "tags": []
   },
   "outputs": [],
   "source": [
    "c_2 = RandomForestClassifier(random_state=1)"
   ]
  },
  {
   "cell_type": "code",
   "execution_count": 43,
   "id": "f42a3e95",
   "metadata": {
    "execution": {
     "iopub.execute_input": "2022-09-22T18:45:59.253819Z",
     "iopub.status.busy": "2022-09-22T18:45:59.253400Z",
     "iopub.status.idle": "2022-09-22T18:45:59.258524Z",
     "shell.execute_reply": "2022-09-22T18:45:59.257380Z"
    },
    "papermill": {
     "duration": 0.025293,
     "end_time": "2022-09-22T18:45:59.260679",
     "exception": false,
     "start_time": "2022-09-22T18:45:59.235386",
     "status": "completed"
    },
    "tags": []
   },
   "outputs": [],
   "source": [
    "c_3 = LogisticRegression(random_state = 1)"
   ]
  },
  {
   "cell_type": "code",
   "execution_count": 44,
   "id": "efdb5f3b",
   "metadata": {
    "execution": {
     "iopub.execute_input": "2022-09-22T18:45:59.297142Z",
     "iopub.status.busy": "2022-09-22T18:45:59.296121Z",
     "iopub.status.idle": "2022-09-22T18:45:59.302263Z",
     "shell.execute_reply": "2022-09-22T18:45:59.301088Z"
    },
    "papermill": {
     "duration": 0.027051,
     "end_time": "2022-09-22T18:45:59.304689",
     "exception": false,
     "start_time": "2022-09-22T18:45:59.277638",
     "status": "completed"
    },
    "tags": []
   },
   "outputs": [],
   "source": [
    "final_predict = VotingClassifier(estimators=[('Nb',c_1),('Rf',c_2),('Lr',c_3)], voting = 'hard')"
   ]
  },
  {
   "cell_type": "code",
   "execution_count": 45,
   "id": "35523254",
   "metadata": {
    "execution": {
     "iopub.execute_input": "2022-09-22T18:45:59.340446Z",
     "iopub.status.busy": "2022-09-22T18:45:59.339986Z",
     "iopub.status.idle": "2022-09-22T18:45:59.346506Z",
     "shell.execute_reply": "2022-09-22T18:45:59.345353Z"
    },
    "papermill": {
     "duration": 0.026942,
     "end_time": "2022-09-22T18:45:59.348703",
     "exception": false,
     "start_time": "2022-09-22T18:45:59.321761",
     "status": "completed"
    },
    "tags": []
   },
   "outputs": [],
   "source": [
    "pipeline_ensemble = Pipeline([\n",
    "    ('bow_mess', CountVectorizer(analyzer=text_prepros)),\n",
    "    ('tfidf_form', TfidfTransformer()),\n",
    "    ('classifier', VotingClassifier(estimators=[('Nb',c_1),('Rf',c_2),('Lr',c_3)], voting = 'hard'))\n",
    "])"
   ]
  },
  {
   "cell_type": "code",
   "execution_count": 46,
   "id": "dbc8ce6b",
   "metadata": {
    "execution": {
     "iopub.execute_input": "2022-09-22T18:45:59.383992Z",
     "iopub.status.busy": "2022-09-22T18:45:59.383555Z",
     "iopub.status.idle": "2022-09-22T18:46:08.945899Z",
     "shell.execute_reply": "2022-09-22T18:46:08.944976Z"
    },
    "papermill": {
     "duration": 9.582789,
     "end_time": "2022-09-22T18:46:08.948137",
     "exception": false,
     "start_time": "2022-09-22T18:45:59.365348",
     "status": "completed"
    },
    "tags": []
   },
   "outputs": [
    {
     "data": {
      "text/plain": [
       "Pipeline(steps=[('bow_mess',\n",
       "                 CountVectorizer(analyzer=<function text_prepros at 0x7f0a47ce73b0>)),\n",
       "                ('tfidf_form', TfidfTransformer()),\n",
       "                ('classifier',\n",
       "                 VotingClassifier(estimators=[('Nb', MultinomialNB()),\n",
       "                                              ('Rf',\n",
       "                                               RandomForestClassifier(random_state=1)),\n",
       "                                              ('Lr',\n",
       "                                               LogisticRegression(random_state=1))]))])"
      ]
     },
     "execution_count": 46,
     "metadata": {},
     "output_type": "execute_result"
    }
   ],
   "source": [
    "pipeline_ensemble.fit(msg_train, label_train)"
   ]
  },
  {
   "cell_type": "code",
   "execution_count": 47,
   "id": "f42fba94",
   "metadata": {
    "execution": {
     "iopub.execute_input": "2022-09-22T18:46:08.985725Z",
     "iopub.status.busy": "2022-09-22T18:46:08.983210Z",
     "iopub.status.idle": "2022-09-22T18:46:12.680511Z",
     "shell.execute_reply": "2022-09-22T18:46:12.679705Z"
    },
    "papermill": {
     "duration": 3.717772,
     "end_time": "2022-09-22T18:46:12.682886",
     "exception": false,
     "start_time": "2022-09-22T18:46:08.965114",
     "status": "completed"
    },
    "tags": []
   },
   "outputs": [
    {
     "data": {
      "text/plain": [
       "0.9635167464114832"
      ]
     },
     "execution_count": 47,
     "metadata": {},
     "output_type": "execute_result"
    }
   ],
   "source": [
    "pipeline_ensemble.score(msg_test, label_test)"
   ]
  },
  {
   "cell_type": "code",
   "execution_count": 48,
   "id": "a8738a93",
   "metadata": {
    "execution": {
     "iopub.execute_input": "2022-09-22T18:46:12.719358Z",
     "iopub.status.busy": "2022-09-22T18:46:12.718286Z",
     "iopub.status.idle": "2022-09-22T18:46:16.338427Z",
     "shell.execute_reply": "2022-09-22T18:46:16.337304Z"
    },
    "papermill": {
     "duration": 3.641517,
     "end_time": "2022-09-22T18:46:16.341298",
     "exception": false,
     "start_time": "2022-09-22T18:46:12.699781",
     "status": "completed"
    },
    "tags": []
   },
   "outputs": [],
   "source": [
    "final_predict = pipeline_ensemble.predict(msg_test)"
   ]
  },
  {
   "cell_type": "code",
   "execution_count": 49,
   "id": "a8fd1151",
   "metadata": {
    "execution": {
     "iopub.execute_input": "2022-09-22T18:46:16.378122Z",
     "iopub.status.busy": "2022-09-22T18:46:16.376798Z",
     "iopub.status.idle": "2022-09-22T18:46:16.431663Z",
     "shell.execute_reply": "2022-09-22T18:46:16.430418Z"
    },
    "papermill": {
     "duration": 0.075647,
     "end_time": "2022-09-22T18:46:16.433900",
     "exception": false,
     "start_time": "2022-09-22T18:46:16.358253",
     "status": "completed"
    },
    "tags": []
   },
   "outputs": [
    {
     "name": "stdout",
     "output_type": "stream",
     "text": [
      "              precision    recall  f1-score   support\n",
      "\n",
      "         ham       0.96      1.00      0.98      1430\n",
      "        spam       1.00      0.75      0.86       242\n",
      "\n",
      "    accuracy                           0.96      1672\n",
      "   macro avg       0.98      0.87      0.92      1672\n",
      "weighted avg       0.97      0.96      0.96      1672\n",
      "\n"
     ]
    }
   ],
   "source": [
    "print(classification_report(label_test,final_predict))"
   ]
  },
  {
   "cell_type": "code",
   "execution_count": null,
   "id": "7e9d7afa",
   "metadata": {
    "papermill": {
     "duration": 0.016405,
     "end_time": "2022-09-22T18:46:16.467050",
     "exception": false,
     "start_time": "2022-09-22T18:46:16.450645",
     "status": "completed"
    },
    "tags": []
   },
   "outputs": [],
   "source": []
  },
  {
   "cell_type": "code",
   "execution_count": null,
   "id": "657545c7",
   "metadata": {
    "papermill": {
     "duration": 0.01693,
     "end_time": "2022-09-22T18:46:16.500659",
     "exception": false,
     "start_time": "2022-09-22T18:46:16.483729",
     "status": "completed"
    },
    "tags": []
   },
   "outputs": [],
   "source": []
  },
  {
   "cell_type": "code",
   "execution_count": 50,
   "id": "4e022c46",
   "metadata": {
    "execution": {
     "iopub.execute_input": "2022-09-22T18:46:16.537489Z",
     "iopub.status.busy": "2022-09-22T18:46:16.536776Z",
     "iopub.status.idle": "2022-09-22T18:46:16.567400Z",
     "shell.execute_reply": "2022-09-22T18:46:16.565943Z"
    },
    "papermill": {
     "duration": 0.052039,
     "end_time": "2022-09-22T18:46:16.570481",
     "exception": false,
     "start_time": "2022-09-22T18:46:16.518442",
     "status": "completed"
    },
    "tags": []
   },
   "outputs": [
    {
     "name": "stdout",
     "output_type": "stream",
     "text": [
      "['love', 'start', 'attractioni', 'feel', 'need', 'every', 'time', 'around', 'meshe', 'first', 'thing', 'comes', 'thoughtsI', 'would', 'start', 'day', 'end', 'hershe', 'every', 'time', 'dreamlove', 'every', 'breath', 'namemy', 'life', 'happen', 'around', 'hermy', 'life', 'named', 'herI', 'would', 'cry', 'herwill', 'give', 'happiness', 'take', 'sorrowsI', 'ready', 'fight', 'anyone', 'herI', 'love', 'craziest', 'things', 'herlove', 'dont', 'proove', 'anyone', 'girl', 'beautiful', 'lady', 'whole', 'planetI', 'always', 'singing', 'praises', 'herlove', 'start', 'making', 'chicken', 'curry', 'end', 'makiing', 'sambarlife', 'beautiful', 'thenwill', 'get', 'every', 'morning', 'thank', 'god', 'day', 'meI', 'would', 'like', 'say', 'lotwill', 'tell', 'later']\n"
     ]
    }
   ],
   "source": [
    "sd = [x for x in sample if x not in string.punctuation]\n",
    "sd = \"\".join(sd)\n",
    "sd1 = [y for y in sd.split() if y.lower() not in stopwords.words(\"english\")]\n",
    "print(sd1)"
   ]
  }
 ],
 "metadata": {
  "kernelspec": {
   "display_name": "Python 3",
   "language": "python",
   "name": "python3"
  },
  "language_info": {
   "codemirror_mode": {
    "name": "ipython",
    "version": 3
   },
   "file_extension": ".py",
   "mimetype": "text/x-python",
   "name": "python",
   "nbconvert_exporter": "python",
   "pygments_lexer": "ipython3",
   "version": "3.7.12"
  },
  "papermill": {
   "default_parameters": {},
   "duration": 83.024535,
   "end_time": "2022-09-22T18:46:17.410421",
   "environment_variables": {},
   "exception": null,
   "input_path": "__notebook__.ipynb",
   "output_path": "__notebook__.ipynb",
   "parameters": {},
   "start_time": "2022-09-22T18:44:54.385886",
   "version": "2.3.4"
  }
 },
 "nbformat": 4,
 "nbformat_minor": 5
}
